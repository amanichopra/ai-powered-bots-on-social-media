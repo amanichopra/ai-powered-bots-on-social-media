{
 "cells": [
  {
   "cell_type": "code",
   "execution_count": 147,
   "metadata": {},
   "outputs": [],
   "source": [
    "import pandas as pd\n",
    "import numpy as np\n",
    "import plotly.express as px\n",
    "import plotly.figure_factory as ff\n",
    "import matplotlib.pyplot as plt\n",
    "from wordcloud import WordCloud, STOPWORDS\n",
    "from nltk.tokenize import word_tokenize"
   ]
  },
  {
   "cell_type": "markdown",
   "metadata": {},
   "source": [
    "# Load Data"
   ]
  },
  {
   "cell_type": "markdown",
   "metadata": {},
   "source": [
    "Data is prepared by the authors of [this](https://arxiv.org/pdf/2307.16336.pdf) paper and is provided [here](https://www.dropbox.com/scl/fo/l49jls7vvz4tgbnv9drnf/h?rlkey=yu44uqhziglxzsjkc5l7cu0uh&dl=0)."
   ]
  },
  {
   "cell_type": "code",
   "execution_count": 2,
   "metadata": {},
   "outputs": [
    {
     "data": {
      "text/html": [
       "<div>\n",
       "<style scoped>\n",
       "    .dataframe tbody tr th:only-of-type {\n",
       "        vertical-align: middle;\n",
       "    }\n",
       "\n",
       "    .dataframe tbody tr th {\n",
       "        vertical-align: top;\n",
       "    }\n",
       "\n",
       "    .dataframe thead th {\n",
       "        text-align: right;\n",
       "    }\n",
       "</style>\n",
       "<table border=\"1\" class=\"dataframe\">\n",
       "  <thead>\n",
       "    <tr style=\"text-align: right;\">\n",
       "      <th></th>\n",
       "      <th>user_id</th>\n",
       "      <th>label</th>\n",
       "      <th>dataset</th>\n",
       "      <th>user_tweets</th>\n",
       "    </tr>\n",
       "  </thead>\n",
       "  <tbody>\n",
       "    <tr>\n",
       "      <th>0</th>\n",
       "      <td>16905397</td>\n",
       "      <td>human</td>\n",
       "      <td>botometer-feedback</td>\n",
       "      <td>[{'contributors': None, 'truncated': True, 'te...</td>\n",
       "    </tr>\n",
       "    <tr>\n",
       "      <th>1</th>\n",
       "      <td>2717053344</td>\n",
       "      <td>human</td>\n",
       "      <td>botometer-feedback</td>\n",
       "      <td>[{'contributors': None, 'truncated': False, 't...</td>\n",
       "    </tr>\n",
       "    <tr>\n",
       "      <th>2</th>\n",
       "      <td>297051227</td>\n",
       "      <td>human</td>\n",
       "      <td>botometer-feedback</td>\n",
       "      <td>[{'contributors': None, 'truncated': False, 't...</td>\n",
       "    </tr>\n",
       "    <tr>\n",
       "      <th>3</th>\n",
       "      <td>282275320</td>\n",
       "      <td>human</td>\n",
       "      <td>botometer-feedback</td>\n",
       "      <td>[{'contributors': None, 'truncated': False, 't...</td>\n",
       "    </tr>\n",
       "    <tr>\n",
       "      <th>4</th>\n",
       "      <td>1663020151</td>\n",
       "      <td>human</td>\n",
       "      <td>botometer-feedback</td>\n",
       "      <td>[{'contributors': None, 'truncated': False, 't...</td>\n",
       "    </tr>\n",
       "  </tbody>\n",
       "</table>\n",
       "</div>"
      ],
      "text/plain": [
       "      user_id  label             dataset  \\\n",
       "0    16905397  human  botometer-feedback   \n",
       "1  2717053344  human  botometer-feedback   \n",
       "2   297051227  human  botometer-feedback   \n",
       "3   282275320  human  botometer-feedback   \n",
       "4  1663020151  human  botometer-feedback   \n",
       "\n",
       "                                         user_tweets  \n",
       "0  [{'contributors': None, 'truncated': True, 'te...  \n",
       "1  [{'contributors': None, 'truncated': False, 't...  \n",
       "2  [{'contributors': None, 'truncated': False, 't...  \n",
       "3  [{'contributors': None, 'truncated': False, 't...  \n",
       "4  [{'contributors': None, 'truncated': False, 't...  "
      ]
     },
     "execution_count": 2,
     "metadata": {},
     "output_type": "execute_result"
    }
   ],
   "source": [
    "df = pd.read_json('./data/fox8_23_dataset.ndjson', lines=True)\n",
    "df.head()"
   ]
  },
  {
   "cell_type": "markdown",
   "metadata": {},
   "source": [
    "The format of the data is described [here](https://github.com/osome-iu/AIBot_fox8) where the `user_tweets` column contains tweet objects that follow [this](https://developer.twitter.com/en/docs/twitter-api/v1/data-dictionary/object-model/tweet) schema."
   ]
  },
  {
   "cell_type": "code",
   "execution_count": 3,
   "metadata": {},
   "outputs": [
    {
     "name": "stdout",
     "output_type": "stream",
     "text": [
      "<class 'pandas.core.frame.DataFrame'>\n",
      "Index: 368028 entries, 0 to 2279\n",
      "Data columns (total 4 columns):\n",
      " #   Column       Non-Null Count   Dtype \n",
      "---  ------       --------------   ----- \n",
      " 0   user_id      368028 non-null  int64 \n",
      " 1   label        368028 non-null  object\n",
      " 2   dataset      368028 non-null  object\n",
      " 3   user_tweets  368028 non-null  object\n",
      "dtypes: int64(1), object(3)\n",
      "memory usage: 14.0+ MB\n"
     ]
    }
   ],
   "source": [
    "df_exploded = df.explode('user_tweets')\n",
    "df_exploded.info()"
   ]
  },
  {
   "cell_type": "markdown",
   "metadata": {},
   "source": [
    "# Explode Data"
   ]
  },
  {
   "cell_type": "code",
   "execution_count": 118,
   "metadata": {},
   "outputs": [
    {
     "name": "stderr",
     "output_type": "stream",
     "text": [
      "/var/folders/5t/n882phq131xgxldbsw6zbwwm0000gn/T/ipykernel_59027/1963049917.py:7: UserWarning:\n",
      "\n",
      "Could not infer format, so each element will be parsed individually, falling back to `dateutil`. To ensure parsing is consistent and as-expected, please specify a format.\n",
      "\n"
     ]
    },
    {
     "data": {
      "text/html": [
       "<div>\n",
       "<style scoped>\n",
       "    .dataframe tbody tr th:only-of-type {\n",
       "        vertical-align: middle;\n",
       "    }\n",
       "\n",
       "    .dataframe tbody tr th {\n",
       "        vertical-align: top;\n",
       "    }\n",
       "\n",
       "    .dataframe thead th {\n",
       "        text-align: right;\n",
       "    }\n",
       "</style>\n",
       "<table border=\"1\" class=\"dataframe\">\n",
       "  <thead>\n",
       "    <tr style=\"text-align: right;\">\n",
       "      <th></th>\n",
       "      <th>user_id</th>\n",
       "      <th>label</th>\n",
       "      <th>dataset</th>\n",
       "      <th>created_at</th>\n",
       "      <th>text</th>\n",
       "      <th>id</th>\n",
       "      <th>in_reply_to_status_id</th>\n",
       "      <th>in_reply_to_user_id</th>\n",
       "      <th>retweet_count</th>\n",
       "      <th>favorite_count</th>\n",
       "      <th>favorited</th>\n",
       "      <th>retweeted</th>\n",
       "      <th>is_quote_status</th>\n",
       "    </tr>\n",
       "  </thead>\n",
       "  <tbody>\n",
       "    <tr>\n",
       "      <th>0</th>\n",
       "      <td>16905397</td>\n",
       "      <td>human</td>\n",
       "      <td>botometer-feedback</td>\n",
       "      <td>2018-04-18 14:09:01+00:00</td>\n",
       "      <td>@christophkoeck In Diskussionen in D erlebe ic...</td>\n",
       "      <td>986607535674322945</td>\n",
       "      <td>9.864804e+17</td>\n",
       "      <td>927857246.0</td>\n",
       "      <td>0</td>\n",
       "      <td>0</td>\n",
       "      <td>False</td>\n",
       "      <td>False</td>\n",
       "      <td>False</td>\n",
       "    </tr>\n",
       "    <tr>\n",
       "      <th>0</th>\n",
       "      <td>16905397</td>\n",
       "      <td>human</td>\n",
       "      <td>botometer-feedback</td>\n",
       "      <td>2018-04-18 13:59:28+00:00</td>\n",
       "      <td>Zwei Lehrerinnen, zwölf Schüler und ein paar S...</td>\n",
       "      <td>986605134649081858</td>\n",
       "      <td>NaN</td>\n",
       "      <td>NaN</td>\n",
       "      <td>0</td>\n",
       "      <td>1</td>\n",
       "      <td>False</td>\n",
       "      <td>False</td>\n",
       "      <td>False</td>\n",
       "    </tr>\n",
       "    <tr>\n",
       "      <th>0</th>\n",
       "      <td>16905397</td>\n",
       "      <td>human</td>\n",
       "      <td>botometer-feedback</td>\n",
       "      <td>2018-04-18 13:45:14+00:00</td>\n",
       "      <td>Antisemitismus in Deutschland =&amp;gt; Adam Armus...</td>\n",
       "      <td>986601549194579968</td>\n",
       "      <td>NaN</td>\n",
       "      <td>NaN</td>\n",
       "      <td>2</td>\n",
       "      <td>1</td>\n",
       "      <td>False</td>\n",
       "      <td>False</td>\n",
       "      <td>False</td>\n",
       "    </tr>\n",
       "    <tr>\n",
       "      <th>0</th>\n",
       "      <td>16905397</td>\n",
       "      <td>human</td>\n",
       "      <td>botometer-feedback</td>\n",
       "      <td>2018-04-18 08:35:02+00:00</td>\n",
       "      <td>Bayerische Politik und ihr Menschenbild – Das ...</td>\n",
       "      <td>986523487807426560</td>\n",
       "      <td>NaN</td>\n",
       "      <td>NaN</td>\n",
       "      <td>1</td>\n",
       "      <td>0</td>\n",
       "      <td>False</td>\n",
       "      <td>False</td>\n",
       "      <td>False</td>\n",
       "    </tr>\n",
       "    <tr>\n",
       "      <th>0</th>\n",
       "      <td>16905397</td>\n",
       "      <td>human</td>\n",
       "      <td>botometer-feedback</td>\n",
       "      <td>2018-04-18 05:08:45+00:00</td>\n",
       "      <td>Es kommt doch auf den Lehrer an! #EDchatDE #Tw...</td>\n",
       "      <td>986471574818689024</td>\n",
       "      <td>9.864714e+17</td>\n",
       "      <td>16905397.0</td>\n",
       "      <td>0</td>\n",
       "      <td>0</td>\n",
       "      <td>False</td>\n",
       "      <td>False</td>\n",
       "      <td>False</td>\n",
       "    </tr>\n",
       "  </tbody>\n",
       "</table>\n",
       "</div>"
      ],
      "text/plain": [
       "    user_id  label             dataset                created_at  \\\n",
       "0  16905397  human  botometer-feedback 2018-04-18 14:09:01+00:00   \n",
       "0  16905397  human  botometer-feedback 2018-04-18 13:59:28+00:00   \n",
       "0  16905397  human  botometer-feedback 2018-04-18 13:45:14+00:00   \n",
       "0  16905397  human  botometer-feedback 2018-04-18 08:35:02+00:00   \n",
       "0  16905397  human  botometer-feedback 2018-04-18 05:08:45+00:00   \n",
       "\n",
       "                                                text                  id  \\\n",
       "0  @christophkoeck In Diskussionen in D erlebe ic...  986607535674322945   \n",
       "0  Zwei Lehrerinnen, zwölf Schüler und ein paar S...  986605134649081858   \n",
       "0  Antisemitismus in Deutschland =&gt; Adam Armus...  986601549194579968   \n",
       "0  Bayerische Politik und ihr Menschenbild – Das ...  986523487807426560   \n",
       "0  Es kommt doch auf den Lehrer an! #EDchatDE #Tw...  986471574818689024   \n",
       "\n",
       "   in_reply_to_status_id  in_reply_to_user_id  retweet_count  favorite_count  \\\n",
       "0           9.864804e+17          927857246.0              0               0   \n",
       "0                    NaN                  NaN              0               1   \n",
       "0                    NaN                  NaN              2               1   \n",
       "0                    NaN                  NaN              1               0   \n",
       "0           9.864714e+17           16905397.0              0               0   \n",
       "\n",
       "   favorited  retweeted  is_quote_status  \n",
       "0      False      False            False  \n",
       "0      False      False            False  \n",
       "0      False      False            False  \n",
       "0      False      False            False  \n",
       "0      False      False            False  "
      ]
     },
     "execution_count": 118,
     "metadata": {},
     "output_type": "execute_result"
    }
   ],
   "source": [
    "rel_tweet_fields = ['created_at', 'text', 'id', 'in_reply_to_status_id', 'in_reply_to_user_id', 'retweet_count', 'favorite_count', 'favorited', 'retweeted', 'is_quote_status']\n",
    "\n",
    "df_exploded['user_tweets'] = df_exploded['user_tweets'].map(lambda tweet: {field: tweet[field] for field in rel_tweet_fields})\n",
    "df_user_tweets_exploded = df_exploded['user_tweets'].apply(pd.Series)\n",
    "\n",
    "df_full_exploded = pd.concat([df_exploded, df_user_tweets_exploded], axis=1).drop('user_tweets', axis=1)\n",
    "df_full_exploded['created_at'] = pd.to_datetime(df_full_exploded['created_at'])\n",
    "df_full_exploded.head()"
   ]
  },
  {
   "cell_type": "markdown",
   "metadata": {},
   "source": [
    "# EDA"
   ]
  },
  {
   "cell_type": "markdown",
   "metadata": {},
   "source": [
    "Understand difference in # of tweets between bots and humans."
   ]
  },
  {
   "cell_type": "code",
   "execution_count": 142,
   "metadata": {},
   "outputs": [],
   "source": [
    "fig = px.bar(df_full_exploded.groupby('label')['text'].count())\n",
    "fig.update_layout(yaxis_title='# Tweets', xaxis_title='Label')\n",
    "fig.write_html(\"./plots/tweets_comparison_1.html\")"
   ]
  },
  {
   "cell_type": "code",
   "execution_count": 140,
   "metadata": {},
   "outputs": [],
   "source": [
    "num_tweets = df_full_exploded.groupby(['label', 'user_id'])['text'].count().to_frame().reset_index()\n",
    "fig = px.violin(num_tweets, y=\"label\", x=\"text\", box=True, points='all')\n",
    "fig.update_layout(xaxis_title='# Tweets', yaxis_title='Source')\n",
    "fig.write_html(\"./plots/tweets_comparison.html\")"
   ]
  },
  {
   "cell_type": "markdown",
   "metadata": {},
   "source": [
    "Understand difference in # of likes between bots and humans."
   ]
  },
  {
   "cell_type": "code",
   "execution_count": 141,
   "metadata": {},
   "outputs": [],
   "source": [
    "num_favs = df_full_exploded.groupby(['label', 'user_id'])['favorite_count'].sum().to_frame().reset_index()\n",
    "fig = px.violin(num_favs, y=\"label\", x=\"favorite_count\", box=True, points=\"all\")\n",
    "fig.update_layout(xaxis_title='# Likes', yaxis_title='Source')\n",
    "fig.write_html(\"./plots/likes_comparison.html\")"
   ]
  },
  {
   "cell_type": "markdown",
   "metadata": {},
   "source": [
    "Build graph user interactions. View the graph on [CosmoGraph](https://cosmograph.app/)."
   ]
  },
  {
   "cell_type": "code",
   "execution_count": 13,
   "metadata": {},
   "outputs": [
    {
     "name": "stdout",
     "output_type": "stream",
     "text": [
      "<class 'pandas.core.frame.DataFrame'>\n",
      "RangeIndex: 91689 entries, 0 to 91688\n",
      "Data columns (total 3 columns):\n",
      " #   Column       Non-Null Count  Dtype\n",
      "---  ------       --------------  -----\n",
      " 0   from         91689 non-null  int64\n",
      " 1   to           91689 non-null  int64\n",
      " 2   num_replies  91689 non-null  int64\n",
      "dtypes: int64(3)\n",
      "memory usage: 2.1 MB\n"
     ]
    }
   ],
   "source": [
    "user_interaction_edge_list = df_full_exploded.groupby(['user_id', 'in_reply_to_user_id'])['text'].count().to_frame().reset_index()\n",
    "user_interaction_edge_list['in_reply_to_user_id'] = user_interaction_edge_list['in_reply_to_user_id'].astype(int)\n",
    "user_interaction_edge_list = user_interaction_edge_list.rename(columns={'user_id': 'from', 'in_reply_to_user_id': 'to', 'text': 'num_replies'})\n",
    "user_interaction_edge_list.info()"
   ]
  },
  {
   "cell_type": "code",
   "execution_count": 14,
   "metadata": {},
   "outputs": [
    {
     "name": "stdout",
     "output_type": "stream",
     "text": [
      "<class 'pandas.core.frame.DataFrame'>\n",
      "RangeIndex: 48983 entries, 0 to 48982\n",
      "Data columns (total 5 columns):\n",
      " #   Column          Non-Null Count  Dtype  \n",
      "---  ------          --------------  -----  \n",
      " 0   id              48983 non-null  int64  \n",
      " 1   label           48983 non-null  float64\n",
      " 2   text            2279 non-null   float64\n",
      " 3   retweet_count   2279 non-null   float64\n",
      " 4   favorite_count  2279 non-null   float64\n",
      "dtypes: float64(4), int64(1)\n",
      "memory usage: 1.9 MB\n"
     ]
    }
   ],
   "source": [
    "user_list = df_full_exploded.groupby(['user_id', 'label']).agg({'text': 'count', 'retweet_count': 'sum', 'favorite_count': 'sum'}).reset_index()\n",
    "user_list['user_id'] = user_list['user_id'].astype(int)\n",
    "user_list['label'] = user_list['label'].map(lambda x: 1 if x == 'human' else 0).astype(int)\n",
    "user_list = user_list.merge(pd.Series(user_interaction_edge_list['to'].unique()).to_frame(), left_on='user_id', right_on=0, how='outer').drop(0, axis=1)\n",
    "user_list['label'] = user_list['label'].fillna(0.5)\n",
    "user_list = user_list.rename(columns={'user_id': 'id'})\n",
    "user_list.info()"
   ]
  },
  {
   "cell_type": "code",
   "execution_count": 55,
   "metadata": {},
   "outputs": [],
   "source": [
    "user_interaction_edge_list.to_csv('./data/user_edge_list.csv', index=False)\n",
    "user_list.to_csv('./data/user_node_list.csv', index=False)"
   ]
  },
  {
   "cell_type": "markdown",
   "metadata": {},
   "source": [
    "Analyze user interactions."
   ]
  },
  {
   "cell_type": "code",
   "execution_count": 94,
   "metadata": {},
   "outputs": [
    {
     "name": "stdout",
     "output_type": "stream",
     "text": [
      "Proportion of Tweets that Are Replies: 0.34577533806254396\n",
      "\n",
      "Proportion of Replies that Are Humans: 0.4192720192202001\n",
      "Proportion of Humans that Replied to Bots: 0.0\n",
      "Proportion of Humans that Replied to Humans: 0.0828636167862025\n",
      "Proportion of Humans that Replied to Unkown Entities: 0.9171363832137975\n",
      "\n",
      "Proportion of Replies that Are Bots: 0.5807279807797999\n",
      "Proportion of Bots that Replied to Humans: 0.0002974379774217535\n",
      "Proportion of Bots that Replied to Bots: 0.03424592712769553\n",
      "Proportion of Bots that Replied to Unkown Entities: 0.9654566348948828\n"
     ]
    }
   ],
   "source": [
    "interactions = df_full_exploded.merge(user_list, left_on='in_reply_to_user_id', right_on='id', how='left')[['created_at', 'user_id', 'label_x', 'text_x', 'id_y', 'label_y']]\n",
    "interactions = interactions.rename(columns={'user_id': 'post_id', 'label_x': 'post_label', 'text_x': 'text', 'id_y': 'reply_id', 'label_y': 'reply_label'})\n",
    "\n",
    "print(f\"Proportion of Tweets that Are Replies: {interactions[~interactions['reply_id'].isna()].shape[0] / interactions.shape[0]}\")\n",
    "print()\n",
    "print(f\"Proportion of Replies that Are Humans: {interactions[~interactions['reply_id'].isna()]['post_label'].value_counts()['human'] / interactions[~interactions['reply_id'].isna()].shape[0]}\")\n",
    "print(f\"Proportion of Humans that Replied to Bots: {interactions[~interactions['reply_id'].isna() & (interactions['post_label'] == 'human') & (interactions['reply_label'] == 0)].shape[0] / interactions[~interactions['reply_id'].isna() & (interactions['post_label'] == 'human')].shape[0]}\")\n",
    "print(f\"Proportion of Humans that Replied to Humans: {interactions[~interactions['reply_id'].isna() & (interactions['post_label'] == 'human') & (interactions['reply_label'] == 1)].shape[0] / interactions[~interactions['reply_id'].isna() & (interactions['post_label'] == 'human')].shape[0]}\")\n",
    "print(f\"Proportion of Humans that Replied to Unkown Entities: {interactions[~interactions['reply_id'].isna() & (interactions['post_label'] == 'human') & (interactions['reply_label'] == 0.5)].shape[0] / interactions[~interactions['reply_id'].isna() & (interactions['post_label'] == 'human')].shape[0]}\")\n",
    "print()\n",
    "print(f\"Proportion of Replies that Are Bots: {interactions[~interactions['reply_id'].isna()]['post_label'].value_counts()['bot'] / interactions[~interactions['reply_id'].isna()].shape[0]}\")\n",
    "print(f\"Proportion of Bots that Replied to Humans: {interactions[~interactions['reply_id'].isna() & (interactions['post_label'] == 'bot') & (interactions['reply_label'] == 1)].shape[0] / interactions[~interactions['reply_id'].isna() & (interactions['post_label'] == 'bot')].shape[0]}\")\n",
    "print(f\"Proportion of Bots that Replied to Bots: {interactions[~interactions['reply_id'].isna() & (interactions['post_label'] == 'bot') & (interactions['reply_label'] == 0)].shape[0] / interactions[~interactions['reply_id'].isna() & (interactions['post_label'] == 'bot')].shape[0]}\")\n",
    "print(f\"Proportion of Bots that Replied to Unkown Entities: {interactions[~interactions['reply_id'].isna() & (interactions['post_label'] == 'bot') & (interactions['reply_label'] == 0.5)].shape[0] / interactions[~interactions['reply_id'].isna() & (interactions['post_label'] == 'bot')].shape[0]}\")\n"
   ]
  },
  {
   "cell_type": "markdown",
   "metadata": {},
   "source": [
    "Understand common words used in bot tweets."
   ]
  },
  {
   "cell_type": "code",
   "execution_count": 138,
   "metadata": {},
   "outputs": [],
   "source": [
    "stopwords = STOPWORDS.union({'https', 't', 'co', 'take', 'to', 'be', 'in', 'the', 'to see', 'in the', 'to be', 'to hear', 'for the'})\n",
    "wc = WordCloud(width=800, height=500, stopwords=stopwords)\\\n",
    "    .generate(' '.join(df_full_exploded.loc[df_full_exploded['label'] == 'bot', 'text'].values))\n",
    "plt.figure(figsize=(20, 10))\n",
    "plt.imshow(wc)\n",
    "plt.axis('off')\n",
    "plt.savefig('./plots/bot_tweet_wc.png')\n",
    "plt.close()"
   ]
  },
  {
   "cell_type": "markdown",
   "metadata": {},
   "source": [
    "Understand common words in human tweets."
   ]
  },
  {
   "cell_type": "code",
   "execution_count": 137,
   "metadata": {},
   "outputs": [],
   "source": [
    "stopwords = STOPWORDS.union({'https', 't', 'co', 'take', 'https t', 't co'})\n",
    "wc = WordCloud(width=800, height=500, stopwords=stopwords)\\\n",
    "    .generate(' '.join(df_full_exploded.loc[df_full_exploded['label'] == 'human', 'text'].values))\n",
    "plt.figure(figsize=(20, 10))\n",
    "plt.imshow(wc)\n",
    "plt.axis('off')\n",
    "plt.savefig('./plots/human_tweet_wc.png')\n",
    "plt.close()"
   ]
  },
  {
   "cell_type": "markdown",
   "metadata": {},
   "source": [
    "Analyze tweet activity over time."
   ]
  },
  {
   "cell_type": "code",
   "execution_count": 131,
   "metadata": {},
   "outputs": [],
   "source": [
    "fig = px.line(df_full_exploded.groupby(['label', 'created_at'])['text'].count().to_frame().reset_index(), x=\"created_at\", y=\"text\", color=\"label\", symbol=\"label\")\n",
    "fig = fig.update_layout(xaxis_title='Date', yaxis_title='# Tweets')\n",
    "fig.write_html(\"./plots/tweet_activity_time.html\")"
   ]
  },
  {
   "cell_type": "markdown",
   "metadata": {},
   "source": [
    "Analyze tokens."
   ]
  },
  {
   "cell_type": "code",
   "execution_count": 162,
   "metadata": {},
   "outputs": [],
   "source": [
    "num_toks = df_full_exploded.groupby(['label', 'user_id'])['num_tokens'].mean().to_frame().reset_index()\n",
    "fig = px.violin(num_toks, y=\"label\", x=\"num_tokens\", box=True, points='all')\n",
    "fig.update_layout(xaxis_title='# Tokens', yaxis_title='Source')\n",
    "fig.write_html(\"./plots/tok_comparison.html\")"
   ]
  },
  {
   "cell_type": "markdown",
   "metadata": {},
   "source": [
    "### Next Steps\n",
    "- Ask ChatGPT to provide classification and confidence on whether tweet is bot or human generated: https://chat.openai.com/share/0d1ce518-2043-4589-92e9-2abf0e4414b5.\n",
    "- Use open source ai-content detector on HF: https://huggingface.co/openai-community/roberta-base-openai-detector?text=I+like+you.+I+love+you."
   ]
  }
 ],
 "metadata": {
  "kernelspec": {
   "display_name": "Python 3",
   "language": "python",
   "name": "python3"
  },
  "language_info": {
   "codemirror_mode": {
    "name": "ipython",
    "version": 3
   },
   "file_extension": ".py",
   "mimetype": "text/x-python",
   "name": "python",
   "nbconvert_exporter": "python",
   "pygments_lexer": "ipython3",
   "version": "3.11.7"
  }
 },
 "nbformat": 4,
 "nbformat_minor": 2
}
